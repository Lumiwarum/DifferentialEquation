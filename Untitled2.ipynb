{
  "nbformat": 4,
  "nbformat_minor": 0,
  "metadata": {
    "colab": {
      "name": "Untitled2.ipynb",
      "provenance": [],
      "collapsed_sections": [],
      "authorship_tag": "ABX9TyOF1jxoK7pcqrdwkGjl1iXR",
      "include_colab_link": true
    },
    "kernelspec": {
      "name": "python3",
      "display_name": "Python 3"
    },
    "language_info": {
      "name": "python"
    }
  },
  "cells": [
    {
      "cell_type": "markdown",
      "metadata": {
        "id": "view-in-github",
        "colab_type": "text"
      },
      "source": [
        "<a href=\"https://colab.research.google.com/github/PUTIN-POMOGI/DifferentialEquation/blob/main/Untitled2.ipynb\" target=\"_parent\"><img src=\"https://colab.research.google.com/assets/colab-badge.svg\" alt=\"Open In Colab\"/></a>"
      ]
    },
    {
      "cell_type": "code",
      "execution_count": null,
      "metadata": {
        "id": "tqbEtOLkqQeo"
      },
      "outputs": [],
      "source": [
        ""
      ]
    },
    {
      "cell_type": "markdown",
      "source": [
        "$10y^{(4)}-7y^{(3)}+2\\ddot{y}+0.5\\dot{y}+4y=15u$ that can be transformed into\n",
        "$y^{(4)}=+\\frac{7}{10}y^{(3)}-\\frac{2}{10}\\ddot{y}-\\frac{0.5}{10}\\dot{y}-\\frac{4}{10}y+\\frac{15}{10}u$ after that we can make next substitutions\n",
        "\n",
        "$x_1=y \\quad x_2=\\dot{y} \\quad x_3=\\ddot{y} \\quad x_4=y^{(3)}$ so \n",
        "\n",
        "$$\\begin{bmatrix}\n",
        "\\dot{x_1} \\\\ \\dot{x_2} \\\\ \\dot{x_3} \\\\ \\dot{x_4} \\\\\n",
        "\\end{bmatrix} = \\begin{bmatrix}\n",
        "0 & 1 & 0 & 0 \\\\ 0 & 0 & 1 & 0 \\\\ 0 & 0 & 0 & 1 \\\\ -\\frac{4}{10} & -\\frac{1}{20} & -\\frac{2}{10} & \\frac{7}{10} \\\\\n",
        "\\end{bmatrix} \\cdot \\begin{bmatrix}\n",
        "x_1 \\\\ x_2 \\\\ x_3 \\\\ x_4 \\\\\n",
        "\\end{bmatrix} + \\begin{bmatrix}\n",
        "0 \\\\ 0 \\\\ 0 \\\\ \\frac{15}{10} \\\\\n",
        "\\end{bmatrix}  u $$"
      ],
      "metadata": {
        "id": "wGT6KzYQqZOE"
      }
    },
    {
      "cell_type": "markdown",
      "source": [
        "$5y^{(4)}-17y^{(3)}-3\\ddot{y}+1.5\\dot{y}+2y=25u$ that can be transformed into\n",
        "$y^{(4)}=+\\frac{17}{5}y^{(3)}+\\frac{3}{5}\\ddot{y}-\\frac{1.5}{5}\\dot{y}-\\frac{2}{5}y+\\frac{25}{5}u$ after that we can make next substitutions\n",
        "\n",
        "$x_1=y \\quad x_2=\\dot{y} \\quad x_3=\\ddot{y} \\quad x_4=y^{(3)}$ so \n",
        "\n",
        "$$\\begin{bmatrix}\n",
        "\\dot{x_1} \\\\ \\dot{x_2} \\\\ \\dot{x_3} \\\\ \\dot{x_4} \\\\\n",
        "\\end{bmatrix} =\n",
        "\\begin{bmatrix}\n",
        "0 & 1 & 0 & 0 \\\\ 0 & 0 & 1 & 0 \\\\ 0 & 0 & 0 & 1 \\\\ -\\frac{2}{5} & -\\frac{3}{10} & \\frac{3}{5} & \\frac{17}{5} \\\\\n",
        "\\end{bmatrix} \\cdot \n",
        "\\begin{bmatrix} x_1 \\\\ x_2 \\\\ x_3 \\\\ x_4 \\\\ \\end{bmatrix} + \n",
        "\\begin{bmatrix} 0 \\\\ 0 \\\\ 0 \\\\ \\frac{5}{2} \\\\ \\end{bmatrix} u $$"
      ],
      "metadata": {
        "id": "XVebhmcEKTnC"
      }
    },
    {
      "cell_type": "markdown",
      "source": [
        "$-3y^{(4)}+22y^{(3)}+4\\ddot{y}+1,5\\dot{y}+1y=15u$ that can be transformed into\n",
        "$y^{(4)}=+\\frac{22}{3}y^{(3)}+\\frac{4}{3}\\ddot{y}+\\frac{1}{2}\\dot{y}+\\frac{1}{3}y-5u$ after that we can make next substitutions\n",
        "\n",
        "$x_1=y \\quad x_2=\\dot{y} \\quad x_3=\\ddot{y} \\quad x_4=y^{(3)}$ so \n",
        "\n",
        "$$\\begin{bmatrix}\n",
        "\\dot{x_1} \\\\ \\dot{x_2} \\\\ \\dot{x_3} \\\\ \\dot{x_4} \\\\\n",
        "\\end{bmatrix} =\n",
        "\\begin{bmatrix}\n",
        "0 & 1 & 0 & 0 \\\\ 0 & 0 & 1 & 0 \\\\ 0 & 0 & 0 & 1 \\\\ \\frac{1}{3} & \\frac{1}{2} & \\frac{4}{3} & \\frac{22}{3} \\\\\n",
        "\\end{bmatrix} \\cdot \n",
        "\\begin{bmatrix} x_1 \\\\ x_2 \\\\ x_3 \\\\ x_4 \\\\ \\end{bmatrix} + \n",
        "\\begin{bmatrix} 0 \\\\ 0 \\\\ 0 \\\\ -5 \\\\ \\end{bmatrix} u $$"
      ],
      "metadata": {
        "id": "5GuetCtLMkdg"
      }
    },
    {
      "cell_type": "markdown",
      "source": [
        ""
      ],
      "metadata": {
        "id": "kUB8-SCYQLbd"
      }
    },
    {
      "cell_type": "markdown",
      "source": [
        "$5y^{(4)}-17y^{(3)}-1.5\\ddot{y}+100\\dot{y}+1.1y=45u$ that can be transformed into\n",
        "$y^{(4)}=+\\frac{17}{5}y^{(3)}+\\frac{3}{10}\\ddot{y}-\\frac{100}{5}\\dot{y}-\\frac{11}{50}y+9u$ after that we can make next substitutions\n",
        "\n",
        "$x_1=y \\quad x_2=\\dot{y} \\quad x_3=\\ddot{y} \\quad x_4=y^{(3)}$ so \n",
        "\n",
        "$$\\begin{bmatrix}\n",
        "\\dot{x_1} \\\\ \\dot{x_2} \\\\ \\dot{x_3} \\\\ \\dot{x_4} \\\\\n",
        "\\end{bmatrix} =\n",
        "\\begin{bmatrix}\n",
        "0 & 1 & 0 & 0 \\\\ 0 & 0 & 1 & 0 \\\\ 0 & 0 & 0 & 1 \\\\ -\\frac{11}{50} & -\\frac{100}{5} & \\frac{3}{10} & \\frac{17}{5} \\\\\n",
        "\\end{bmatrix} \\cdot \n",
        "\\begin{bmatrix} x_1 \\\\ x_2 \\\\ x_3 \\\\ x_4 \\\\ \\end{bmatrix} + \n",
        "\\begin{bmatrix} 0 \\\\ 0 \\\\ 0 \\\\ 9 \\\\ \\end{bmatrix} u $$"
      ],
      "metadata": {
        "id": "Aiv-mZ96QMsB"
      }
    },
    {
      "cell_type": "markdown",
      "source": [
        "$1.5y^{(4)}-23y^{(3)}-2.5\\ddot{y}+0.1dot{y}+100y=-10u$ that can be transformed into\n",
        "$y^{(4)}=+\\frac{46}{3}y^{(3)}+\\frac{5}{3}\\ddot{y}-\\frac{2}{30}\\dot{y}-\\frac{200}{3}y-\\frac{20}{3}u$ after that we can make next substitutions\n",
        "\n",
        "$x_1=y \\quad x_2=\\dot{y} \\quad x_3=\\ddot{y} \\quad x_4=y^{(3)}$ so \n",
        "\n",
        "$$\\begin{bmatrix}\n",
        "\\dot{x_1} \\\\ \\dot{x_2} \\\\ \\dot{x_3} \\\\ \\dot{x_4} \\\\\n",
        "\\end{bmatrix} =\n",
        "\\begin{bmatrix}\n",
        "0 & 1 & 0 & 0 \\\\ 0 & 0 & 1 & 0 \\\\ 0 & 0 & 0 & 1 \\\\ -\\frac{200}{3} & -\\frac{2}{30} & \\frac{5}{3} & \\frac{46}{3} \\\\\n",
        "\\end{bmatrix} \\cdot \n",
        "\\begin{bmatrix} x_1 \\\\ x_2 \\\\ x_3 \\\\ x_4 \\\\ \\end{bmatrix} + \n",
        "\\begin{bmatrix} 0 \\\\ 0 \\\\ 0 \\\\ -\\frac{20}{3} \\\\ \\end{bmatrix} u $$"
      ],
      "metadata": {
        "id": "T7bBPaXhRSDY"
      }
    }
  ]
}